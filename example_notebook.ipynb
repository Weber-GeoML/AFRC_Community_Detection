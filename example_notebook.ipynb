{
 "cells": [
  {
   "cell_type": "code",
   "execution_count": null,
   "metadata": {},
   "outputs": [],
   "source": [
    "# install the GraphRicciCurvature if not installed already\n",
    "!pip install GraphRicciCurvature"
   ]
  },
  {
   "cell_type": "code",
   "execution_count": null,
   "metadata": {},
   "outputs": [],
   "source": [
    "import networkx as nx\n",
    "import matplotlib.pyplot as plt\n",
    "import numpy as np\n",
    "from copy import deepcopy\n",
    "import networkx.algorithms.community as nx_comm\n",
    "import os\n",
    "import json\n",
    "\n",
    "from GraphRicciCurvature.OllivierRicci import OllivierRicci\n",
    "from timeit import default_timer as timer\n",
    "\n",
    "import curvature_graph_objects as cgo\n",
    "import compute_curvatures as cc\n",
    "import visualizations as vis\n",
    "import community_detection as cd\n",
    "import auxiliary_functions as af"
   ]
  },
  {
   "cell_type": "code",
   "execution_count": null,
   "metadata": {},
   "outputs": [],
   "source": [
    "# create a stochastic block model with 10 nodes per community,\n",
    "# 10 communities, inter-community edge probability 0.7, and\n",
    "# intra-community edge probability 0.05\n",
    "G = cgo.CurvatureSBM(10, 10, 0.7, 0.05)\n",
    "G.assign_edges()\n",
    "\n",
    "# compute the Augmented Forman-Ricci curvature\n",
    "G.compute_afrc()"
   ]
  },
  {
   "cell_type": "code",
   "execution_count": null,
   "metadata": {},
   "outputs": [],
   "source": [
    "# plot the AFRC distribution of the SBM graph\n",
    "G.plot_curvature_histogram(\"afrc\", title=\"\", x_axis=\"Curvature Value\", y_axis=\"Frequency\", colors=True, font_size=60)"
   ]
  },
  {
   "cell_type": "code",
   "execution_count": null,
   "metadata": {},
   "outputs": [],
   "source": [
    "# create a hierarchical bipartite graph with 40 nodes in each\n",
    "# partition, inter-partition edge probability 0.7, and\n",
    "# intra-partition edge probability 0.05\n",
    "H = cgo.CurvatureHBG(40, 40, 0.7, 0.05)\n",
    "H.assign_edges()\n",
    "\n",
    "# compute the AFRC and the AFRC with only 3-cycles taken into account\n",
    "H.compute_afrc()\n",
    "H.compute_afrc_3()"
   ]
  },
  {
   "cell_type": "code",
   "execution_count": null,
   "metadata": {},
   "outputs": [],
   "source": [
    "# compute the edge-level difference between the two AFRC notions\n",
    "H.compute_curvature_difference('afrc_3', 'afrc')\n",
    "\n",
    "# plot the graph and the edge-level differences\n",
    "G.plot_curvature_differences('diff_afrc_3_afrc')"
   ]
  }
 ],
 "metadata": {
  "language_info": {
   "name": "python"
  }
 },
 "nbformat": 4,
 "nbformat_minor": 2
}
